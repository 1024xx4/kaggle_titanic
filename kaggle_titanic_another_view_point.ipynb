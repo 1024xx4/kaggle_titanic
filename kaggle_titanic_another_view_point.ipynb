{
 "cells": [
  {
   "cell_type": "markdown",
   "source": [
    "## 精度以外の分析視点\n",
    "- User の分類\n",
    "- 特定の User の分析\n",
    "\n",
    "について考えていく。\n",
    "\n",
    "当時の豪華客船である Titanic号にはどのような層の人達が乗船してみる。\n",
    "\n",
    "---\n",
    "\n",
    "Data全体を特徴の似ているものの集合に分ける方法\n",
    "#### ある１つの値に注目して分ける。\n",
    "Ticket-class ごとで乗船客にどのような違いがあるか\n",
    "#### 統計手法・機械学習手法を用いる。\n",
    "- k-means\n",
    "- t-SNE\n",
    "などの手法を用いて、Data を自動的に「特徴の似ている」Cluster に分類していく。"
   ],
   "metadata": {
    "collapsed": false
   }
  },
  {
   "cell_type": "markdown",
   "source": [
    "### Ticket class ごとの人数を確認する"
   ],
   "metadata": {
    "collapsed": false
   }
  },
  {
   "cell_type": "code",
   "execution_count": 1,
   "outputs": [],
   "source": [
    "import matplotlib.pyplot as plt\n",
    "import pandas as pd\n",
    "\n",
    "# Data の読み込み\n",
    "df_train = pd.read_csv(\"data/train.csv\")\n",
    "df_test = pd.read_csv(\"data/test.csv\")\n",
    "df_all = pd.concat([df_train, df_test], sort=False).reset_index(drop=True)"
   ],
   "metadata": {
    "collapsed": false
   }
  },
  {
   "cell_type": "code",
   "execution_count": 2,
   "outputs": [
    {
     "data": {
      "text/plain": "3    709\n1    323\n2    277\nName: Pclass, dtype: int64"
     },
     "execution_count": 2,
     "metadata": {},
     "output_type": "execute_result"
    }
   ],
   "source": [
    "# Ticket class ごとの人数の確認\n",
    "df_all.Pclass.value_counts()"
   ],
   "metadata": {
    "collapsed": false
   }
  },
  {
   "cell_type": "code",
   "execution_count": 3,
   "outputs": [
    {
     "data": {
      "text/plain": "<AxesSubplot: >"
     },
     "execution_count": 3,
     "metadata": {},
     "output_type": "execute_result"
    },
    {
     "data": {
      "text/plain": "<Figure size 640x480 with 1 Axes>",
      "image/png": "[encoded data removed]"
     },
     "metadata": {},
     "output_type": "display_data"
    }
   ],
   "source": [
    "# 可視化\n",
    "df_all.Pclass.value_counts().plot.bar()"
   ],
   "metadata": {
    "collapsed": false
   }
  },
  {
   "cell_type": "markdown",
   "source": [
    "３等級の乗客がもっとも多く、１等級、２等級の２倍以上となる。"
   ],
   "metadata": {
    "collapsed": false
   }
  },
  {
   "cell_type": "markdown",
   "source": [
    "### 料金の分布を確認する\n",
    "Ticket classごとの料金の分布を確認する。"
   ],
   "metadata": {
    "collapsed": false
   }
  },
  {
   "cell_type": "code",
   "execution_count": 5,
   "outputs": [
    {
     "data": {
      "text/plain": "         Fare                                                                 \n        count       mean        std  min      25%      50%       75%       max\nPclass                                                                        \n1       323.0  87.508992  80.447178  0.0  30.6958  60.0000  107.6625  512.3292\n2       277.0  21.179196  13.607122  0.0  13.0000  15.0458   26.0000   73.5000\n3       708.0  13.302889  11.494358  0.0   7.7500   8.0500   15.2458   69.5500",
      "text/html": "<div>\n<style scoped>\n    .dataframe tbody tr th:only-of-type {\n        vertical-align: middle;\n    }\n\n    .dataframe tbody tr th {\n        vertical-align: top;\n    }\n\n    .dataframe thead tr th {\n        text-align: left;\n    }\n\n    .dataframe thead tr:last-of-type th {\n        text-align: right;\n    }\n</style>\n<table border=\"1\" class=\"dataframe\">\n  <thead>\n    <tr>\n      <th></th>\n      <th colspan=\"8\" halign=\"left\">Fare</th>\n    </tr>\n    <tr>\n      <th></th>\n      <th>count</th>\n      <th>mean</th>\n      <th>std</th>\n      <th>min</th>\n      <th>25%</th>\n      <th>50%</th>\n      <th>75%</th>\n      <th>max</th>\n    </tr>\n    <tr>\n      <th>Pclass</th>\n      <th></th>\n      <th></th>\n      <th></th>\n      <th></th>\n      <th></th>\n      <th></th>\n      <th></th>\n      <th></th>\n    </tr>\n  </thead>\n  <tbody>\n    <tr>\n      <th>1</th>\n      <td>323.0</td>\n      <td>87.508992</td>\n      <td>80.447178</td>\n      <td>0.0</td>\n      <td>30.6958</td>\n      <td>60.0000</td>\n      <td>107.6625</td>\n      <td>512.3292</td>\n    </tr>\n    <tr>\n      <th>2</th>\n      <td>277.0</td>\n      <td>21.179196</td>\n      <td>13.607122</td>\n      <td>0.0</td>\n      <td>13.0000</td>\n      <td>15.0458</td>\n      <td>26.0000</td>\n      <td>73.5000</td>\n    </tr>\n    <tr>\n      <th>3</th>\n      <td>708.0</td>\n      <td>13.302889</td>\n      <td>11.494358</td>\n      <td>0.0</td>\n      <td>7.7500</td>\n      <td>8.0500</td>\n      <td>15.2458</td>\n      <td>69.5500</td>\n    </tr>\n  </tbody>\n</table>\n</div>"
     },
     "execution_count": 5,
     "metadata": {},
     "output_type": "execute_result"
    }
   ],
   "source": [
    "# Ticket class ごとの料金の確認\n",
    "df_all[[\"Pclass\", \"Fare\"]].groupby(\"Pclass\").describe()"
   ],
   "metadata": {
    "collapsed": false
   }
  },
  {
   "cell_type": "code",
   "execution_count": 7,
   "outputs": [
    {
     "data": {
      "text/plain": "<AxesSubplot: xlabel='Pclass', ylabel='Fare'>"
     },
     "execution_count": 7,
     "metadata": {},
     "output_type": "execute_result"
    },
    {
     "data": {
      "text/plain": "<Figure size 600x500 with 1 Axes>",
      "image/png": "[encoded data removed]"
     },
     "metadata": {},
     "output_type": "display_data"
    }
   ],
   "source": [
    "import matplotlib.pyplot as plt\n",
    "import seaborn as sns\n",
    "\n",
    "# Ticket class ごとの料金の分布を可視化\n",
    "plt.figure(figsize=(6, 5))\n",
    "sns.boxplot(x=\"Pclass\", y=\"Fare\", data=df_all)"
   ],
   "metadata": {
    "collapsed": false
   }
  },
  {
   "cell_type": "markdown",
   "source": [
    "- １等級の Ticket は、３等級の７倍近い値段がする。\n",
    "- １等級は価格帯の幅も広くもっとも高い Ticket は３等級平均料金の50倍になる。\n",
    "\n",
    "１等級の中でも、さらにHigh-class の人たちは分けて集計することにする。"
   ],
   "metadata": {
    "collapsed": false
   }
  },
  {
   "cell_type": "markdown",
   "source": [
    "### １等級の Ticket のうち、高額Ticket（１等級の上位25%）を Pclass0 にする\n",
    "１等級の中でも、さらに High-class の Ticket を０等級とする。\n",
    "Fare が 108より大きい（１等級Class-ticket の75%分位より大きい、=全体の上位25%）ものを 0 にする。"
   ],
   "metadata": {
    "collapsed": false
   }
  },
  {
   "cell_type": "code",
   "execution_count": 9,
   "outputs": [
    {
     "data": {
      "text/plain": "      PassengerId  Survived  Pclass  \\\n27             28       0.0       1   \n31             32       1.0       1   \n88             89       1.0       1   \n118           119       0.0       1   \n195           196       1.0       1   \n...           ...       ...     ...   \n1262         1263       NaN       1   \n1266         1267       NaN       1   \n1291         1292       NaN       1   \n1298         1299       NaN       1   \n1305         1306       NaN       1   \n\n                                                Name     Sex   Age  SibSp  \\\n27                    Fortune, Mr. Charles Alexander    male  19.0      3   \n31    Spencer, Mrs. William Augustus (Marie Eugenie)  female   NaN      1   \n88                        Fortune, Miss. Mabel Helen  female  23.0      3   \n118                         Baxter, Mr. Quigg Edmond    male  24.0      0   \n195                             Lurette, Miss. Elise  female  58.0      0   \n...                                              ...     ...   ...    ...   \n1262                       Wilson, Miss. Helen Alice  female  31.0      0   \n1266                        Bowen, Miss. Grace Scott  female  45.0      0   \n1291                         Bonnell, Miss. Caroline  female  30.0      0   \n1298                      Widener, Mr. George Dunton    male  50.0      1   \n1305                    Oliva y Ocana, Dona. Fermina  female  39.0      0   \n\n      Parch    Ticket      Fare        Cabin Embarked  Pclass2  \n27        2     19950  263.0000  C23 C25 C27        S        0  \n31        0  PC 17569  146.5208          B78        C        0  \n88        2     19950  263.0000  C23 C25 C27        S        0  \n118       1  PC 17558  247.5208      B58 B60        C        0  \n195       0  PC 17569  146.5208          B80        C        0  \n...     ...       ...       ...          ...      ...      ...  \n1262      0     16966  134.5000      E39 E41        C        0  \n1266      0  PC 17608  262.3750          NaN        C        0  \n1291      0     36928  164.8667           C7        S        0  \n1298      1    113503  211.5000          C80        C        0  \n1305      0  PC 17758  108.9000         C105        C        0  \n\n[81 rows x 13 columns]",
      "text/html": "<div>\n<style scoped>\n    .dataframe tbody tr th:only-of-type {\n        vertical-align: middle;\n    }\n\n    .dataframe tbody tr th {\n        vertical-align: top;\n    }\n\n    .dataframe thead th {\n        text-align: right;\n    }\n</style>\n<table border=\"1\" class=\"dataframe\">\n  <thead>\n    <tr style=\"text-align: right;\">\n      <th></th>\n      <th>PassengerId</th>\n      <th>Survived</th>\n      <th>Pclass</th>\n      <th>Name</th>\n      <th>Sex</th>\n      <th>Age</th>\n      <th>SibSp</th>\n      <th>Parch</th>\n      <th>Ticket</th>\n      <th>Fare</th>\n      <th>Cabin</th>\n      <th>Embarked</th>\n      <th>Pclass2</th>\n    </tr>\n  </thead>\n  <tbody>\n    <tr>\n      <th>27</th>\n      <td>28</td>\n      <td>0.0</td>\n      <td>1</td>\n      <td>Fortune, Mr. Charles Alexander</td>\n      <td>male</td>\n      <td>19.0</td>\n      <td>3</td>\n      <td>2</td>\n      <td>19950</td>\n      <td>263.0000</td>\n      <td>C23 C25 C27</td>\n      <td>S</td>\n      <td>0</td>\n    </tr>\n    <tr>\n      <th>31</th>\n      <td>32</td>\n      <td>1.0</td>\n      <td>1</td>\n      <td>Spencer, Mrs. William Augustus (Marie Eugenie)</td>\n      <td>female</td>\n      <td>NaN</td>\n      <td>1</td>\n      <td>0</td>\n      <td>PC 17569</td>\n      <td>146.5208</td>\n      <td>B78</td>\n      <td>C</td>\n      <td>0</td>\n    </tr>\n    <tr>\n      <th>88</th>\n      <td>89</td>\n      <td>1.0</td>\n      <td>1</td>\n      <td>Fortune, Miss. Mabel Helen</td>\n      <td>female</td>\n      <td>23.0</td>\n      <td>3</td>\n      <td>2</td>\n      <td>19950</td>\n      <td>263.0000</td>\n      <td>C23 C25 C27</td>\n      <td>S</td>\n      <td>0</td>\n    </tr>\n    <tr>\n      <th>118</th>\n      <td>119</td>\n      <td>0.0</td>\n      <td>1</td>\n      <td>Baxter, Mr. Quigg Edmond</td>\n      <td>male</td>\n      <td>24.0</td>\n      <td>0</td>\n      <td>1</td>\n      <td>PC 17558</td>\n      <td>247.5208</td>\n      <td>B58 B60</td>\n      <td>C</td>\n      <td>0</td>\n    </tr>\n    <tr>\n      <th>195</th>\n      <td>196</td>\n      <td>1.0</td>\n      <td>1</td>\n      <td>Lurette, Miss. Elise</td>\n      <td>female</td>\n      <td>58.0</td>\n      <td>0</td>\n      <td>0</td>\n      <td>PC 17569</td>\n      <td>146.5208</td>\n      <td>B80</td>\n      <td>C</td>\n      <td>0</td>\n    </tr>\n    <tr>\n      <th>...</th>\n      <td>...</td>\n      <td>...</td>\n      <td>...</td>\n      <td>...</td>\n      <td>...</td>\n      <td>...</td>\n      <td>...</td>\n      <td>...</td>\n      <td>...</td>\n      <td>...</td>\n      <td>...</td>\n      <td>...</td>\n      <td>...</td>\n    </tr>\n    <tr>\n      <th>1262</th>\n      <td>1263</td>\n      <td>NaN</td>\n      <td>1</td>\n      <td>Wilson, Miss. Helen Alice</td>\n      <td>female</td>\n      <td>31.0</td>\n      <td>0</td>\n      <td>0</td>\n      <td>16966</td>\n      <td>134.5000</td>\n      <td>E39 E41</td>\n      <td>C</td>\n      <td>0</td>\n    </tr>\n    <tr>\n      <th>1266</th>\n      <td>1267</td>\n      <td>NaN</td>\n      <td>1</td>\n      <td>Bowen, Miss. Grace Scott</td>\n      <td>female</td>\n      <td>45.0</td>\n      <td>0</td>\n      <td>0</td>\n      <td>PC 17608</td>\n      <td>262.3750</td>\n      <td>NaN</td>\n      <td>C</td>\n      <td>0</td>\n    </tr>\n    <tr>\n      <th>1291</th>\n      <td>1292</td>\n      <td>NaN</td>\n      <td>1</td>\n      <td>Bonnell, Miss. Caroline</td>\n      <td>female</td>\n      <td>30.0</td>\n      <td>0</td>\n      <td>0</td>\n      <td>36928</td>\n      <td>164.8667</td>\n      <td>C7</td>\n      <td>S</td>\n      <td>0</td>\n    </tr>\n    <tr>\n      <th>1298</th>\n      <td>1299</td>\n      <td>NaN</td>\n      <td>1</td>\n      <td>Widener, Mr. George Dunton</td>\n      <td>male</td>\n      <td>50.0</td>\n      <td>1</td>\n      <td>1</td>\n      <td>113503</td>\n      <td>211.5000</td>\n      <td>C80</td>\n      <td>C</td>\n      <td>0</td>\n    </tr>\n    <tr>\n      <th>1305</th>\n      <td>1306</td>\n      <td>NaN</td>\n      <td>1</td>\n      <td>Oliva y Ocana, Dona. Fermina</td>\n      <td>female</td>\n      <td>39.0</td>\n      <td>0</td>\n      <td>0</td>\n      <td>PC 17758</td>\n      <td>108.9000</td>\n      <td>C105</td>\n      <td>C</td>\n      <td>0</td>\n    </tr>\n  </tbody>\n</table>\n<p>81 rows × 13 columns</p>\n</div>"
     },
     "execution_count": 9,
     "metadata": {},
     "output_type": "execute_result"
    }
   ],
   "source": [
    "# Pclass2 という変数の作成\n",
    "df_all[\"Pclass2\"] = df_all[\"Pclass\"]\n",
    "\n",
    "# Fare が 108 よりも大きいものを 0 に変更\n",
    "df_all.loc[df_all[\"Fare\"] > 108, \"Pclass2\"] = 0\n",
    "df_all.loc[df_all[\"Pclass2\"] == 0]"
   ],
   "metadata": {
    "collapsed": false
   }
  },
  {
   "cell_type": "markdown",
   "source": [],
   "metadata": {
    "collapsed": false
   }
  }
 ],
 "metadata": {
  "kernelspec": {
   "display_name": "Python 3",
   "language": "python",
   "name": "python3"
  },
  "language_info": {
   "codemirror_mode": {
    "name": "ipython",
    "version": 2
   },
   "file_extension": ".py",
   "mimetype": "text/x-python",
   "name": "python",
   "nbconvert_exporter": "python",
   "pygments_lexer": "ipython2",
   "version": "2.7.6"
  }
 },
 "nbformat": 4,
 "nbformat_minor": 0
}
