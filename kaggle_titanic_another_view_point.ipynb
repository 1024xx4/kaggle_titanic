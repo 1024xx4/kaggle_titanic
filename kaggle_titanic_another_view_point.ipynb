{
 "cells": [
  {
   "cell_type": "markdown",
   "source": [
    "## 精度以外の分析視点\n",
    "- User の分類\n",
    "- 特定の User の分析\n",
    "\n",
    "について考えていく。\n",
    "\n",
    "当時の豪華客船である Titanic号にはどのような層の人達が乗船してみる。\n",
    "\n",
    "---\n",
    "\n",
    "Data全体を特徴の似ているものの集合に分ける方法\n",
    "#### ある１つの値に注目して分ける。\n",
    "Ticket-class ごとで乗船客にどのような違いがあるか\n",
    "#### 統計手法・機械学習手法を用いる。\n",
    "- k-means\n",
    "- t-SNE\n",
    "などの手法を用いて、Data を自動的に「特徴の似ている」Cluster に分類していく。"
   ],
   "metadata": {
    "collapsed": false
   }
  },
  {
   "cell_type": "markdown",
   "source": [
    "### Ticket class ごとの人数を確認する"
   ],
   "metadata": {
    "collapsed": false
   }
  },
  {
   "cell_type": "code",
   "execution_count": 1,
   "outputs": [],
   "source": [
    "import pandas as pd\n",
    "\n",
    "# Data の読み込み\n",
    "df_train = pd.read_csv(\"data/train.csv\")\n",
    "df_test = pd.read_csv(\"data/test.csv\")\n",
    "df_all = pd.concat([df_train, df_test], sort=False).reset_index(drop=True)"
   ],
   "metadata": {
    "collapsed": false
   }
  },
  {
   "cell_type": "code",
   "execution_count": 2,
   "outputs": [
    {
     "data": {
      "text/plain": "3    709\n1    323\n2    277\nName: Pclass, dtype: int64"
     },
     "execution_count": 2,
     "metadata": {},
     "output_type": "execute_result"
    }
   ],
   "source": [
    "# Ticket class ごとの人数の確認\n",
    "df_all.Pclass.value_counts()"
   ],
   "metadata": {
    "collapsed": false
   }
  },
  {
   "cell_type": "code",
   "execution_count": 3,
   "outputs": [
    {
     "data": {
      "text/plain": "<AxesSubplot: >"
     },
     "execution_count": 3,
     "metadata": {},
     "output_type": "execute_result"
    },
    {
     "data": {
      "text/plain": "<Figure size 640x480 with 1 Axes>",
      "image/png": "[encoded data removed]"
     },
     "metadata": {},
     "output_type": "display_data"
    }
   ],
   "source": [
    "# 可視化\n",
    "df_all.Pclass.value_counts().plot.bar()"
   ],
   "metadata": {
    "collapsed": false
   }
  },
  {
   "cell_type": "markdown",
   "source": [
    "３等級の乗客がもっとも多く、１等級、２等級の２倍以上となる。"
   ],
   "metadata": {
    "collapsed": false
   }
  },
  {
   "cell_type": "code",
   "execution_count": null,
   "outputs": [],
   "source": [],
   "metadata": {
    "collapsed": false
   }
  }
 ],
 "metadata": {
  "kernelspec": {
   "display_name": "Python 3",
   "language": "python",
   "name": "python3"
  },
  "language_info": {
   "codemirror_mode": {
    "name": "ipython",
    "version": 2
   },
   "file_extension": ".py",
   "mimetype": "text/x-python",
   "name": "python",
   "nbconvert_exporter": "python",
   "pygments_lexer": "ipython2",
   "version": "2.7.6"
  }
 },
 "nbformat": 4,
 "nbformat_minor": 0
}
